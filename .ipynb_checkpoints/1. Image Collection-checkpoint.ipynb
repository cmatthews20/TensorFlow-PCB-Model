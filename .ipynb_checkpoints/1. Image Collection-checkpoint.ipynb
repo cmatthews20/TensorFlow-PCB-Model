{
 "cells": [
  {
   "cell_type": "markdown",
   "metadata": {},
   "source": [
    "# 1. Import Dependencies"
   ]
  },
  {
   "cell_type": "code",
   "execution_count": 5,
   "metadata": {},
   "outputs": [
    {
     "name": "stdout",
     "output_type": "stream",
     "text": [
      "Requirement already satisfied: opencv-python in c:\\users\\cole\\documents\\tfod\\tfodcourse\\tfod\\lib\\site-packages (4.5.5.62)\n",
      "Requirement already satisfied: numpy>=1.14.5 in c:\\users\\cole\\documents\\tfod\\tfodcourse\\tfod\\lib\\site-packages (from opencv-python) (1.22.2)\n"
     ]
    }
   ],
   "source": [
    "!pip install opencv-python"
   ]
  },
  {
   "cell_type": "code",
   "execution_count": 7,
   "metadata": {},
   "outputs": [],
   "source": [
    "# Import opencv\n",
    "import cv2 \n",
    "\n",
    "# Import uuid (gives unique identifier for naming images uniquely to avoid overlaps)\n",
    "import uuid\n",
    "\n",
    "# Import Operating System (good for working with file paths (complying with windows, mac, linux))\n",
    "import os\n",
    "\n",
    "# Import time (we will use to delay camera captures)\n",
    "import time"
   ]
  },
  {
   "cell_type": "markdown",
   "metadata": {},
   "source": [
    "# 2. Define Images to Collect"
   ]
  },
  {
   "cell_type": "code",
   "execution_count": 15,
   "metadata": {},
   "outputs": [],
   "source": [
    "labels = ['thumbsup', 'thumbsdown', 'surfer', 'livelong'] # This will be multi-class object detection model\n",
    "number_imgs = 5 # Number of images per class"
   ]
  },
  {
   "cell_type": "markdown",
   "metadata": {},
   "source": [
    "# 3. Setup Folders "
   ]
  },
  {
   "cell_type": "code",
   "execution_count": 16,
   "metadata": {},
   "outputs": [],
   "source": [
    "IMAGES_PATH = os.path.join('Tensorflow', 'workspace', 'images', 'collectedimages') # Creating new path + folders"
   ]
  },
  {
   "cell_type": "code",
   "execution_count": 10,
   "metadata": {},
   "outputs": [],
   "source": [
    "if not os.path.exists(IMAGES_PATH): # Checks if file path exists; os.name checks type of os being used \n",
    "    if os.name == 'posix': # Linux\n",
    "        !mkdir -p {IMAGES_PATH}\n",
    "    if os.name == 'nt': # Windows\n",
    "         !mkdir {IMAGES_PATH}\n",
    "for label in labels: # Creates new folder per class\n",
    "    path = os.path.join(IMAGES_PATH, label)\n",
    "    if not os.path.exists(path):\n",
    "        !mkdir {path}"
   ]
  },
  {
   "cell_type": "markdown",
   "metadata": {},
   "source": [
    "# 4. Capture Images"
   ]
  },
  {
   "cell_type": "code",
   "execution_count": 19,
   "metadata": {
    "scrolled": true
   },
   "outputs": [
    {
     "name": "stdout",
     "output_type": "stream",
     "text": [
      "Collecting images for surfer\n",
      "Collecting image 0\n",
      "Collecting image 1\n"
     ]
    }
   ],
   "source": [
    "for label in labels: \n",
    "    cap = cv2.VideoCapture(0) # Connects to camera\n",
    "    print('Collecting images for {}'.format(label)) # Print the label that we are collecting images for\n",
    "    time.sleep(5) # Break to allow repositioning of object\n",
    "    for imgnum in range(number_imgs): # Loops through number of images we want to collect\n",
    "        print('Collecting image {}'.format(imgnum)) # Prints the image number being collected for specific label\n",
    "        ret, frame = cap.read() # Captures frame using webcam\n",
    "        \n",
    "        # Creates image in folder path\n",
    "        imgname = os.path.join(IMAGES_PATH,label,label+'.'+'{}.jpg'.format(str(uuid.uuid1()))) \n",
    "        cv2.imwrite(imgname, frame) # Writes to file\n",
    "        cv2.imshow('frame', frame) # Show to screen\n",
    "        time.sleep(2)\n",
    "\n",
    "        if cv2.waitKey(1) & 0xFF == ord('q'): # Hit 'q' key to escape\n",
    "            break\n",
    "cap.release()\n",
    "cv2.destroyAllWindows()"
   ]
  },
  {
   "cell_type": "markdown",
   "metadata": {},
   "source": [
    "# 5. Image Labelling"
   ]
  },
  {
   "cell_type": "code",
   "execution_count": 20,
   "metadata": {},
   "outputs": [
    {
     "name": "stdout",
     "output_type": "stream",
     "text": [
      "Collecting pyqt5\n",
      "  Downloading PyQt5-5.15.6-cp36-abi3-win_amd64.whl (6.7 MB)\n",
      "     ---------------------------------------- 6.7/6.7 MB 4.8 MB/s eta 0:00:00\n",
      "Collecting lxml\n",
      "  Downloading lxml-4.8.0-cp38-cp38-win_amd64.whl (3.6 MB)\n",
      "     ---------------------------------------- 3.6/3.6 MB 6.1 MB/s eta 0:00:00\n",
      "Collecting PyQt5-sip<13,>=12.8\n",
      "  Downloading PyQt5_sip-12.9.1-cp38-cp38-win_amd64.whl (77 kB)\n",
      "     ---------------------------------------- 77.5/77.5 KB 4.2 MB/s eta 0:00:00\n",
      "Collecting PyQt5-Qt5>=5.15.2\n",
      "  Downloading PyQt5_Qt5-5.15.2-py3-none-win_amd64.whl (50.1 MB)\n",
      "     ---------------------------------------- 50.1/50.1 MB 5.4 MB/s eta 0:00:00\n",
      "Installing collected packages: PyQt5-Qt5, PyQt5-sip, lxml, pyqt5\n",
      "Successfully installed PyQt5-Qt5-5.15.2 PyQt5-sip-12.9.1 lxml-4.8.0 pyqt5-5.15.6\n"
     ]
    }
   ],
   "source": [
    "!pip install --upgrade pyqt5 lxml"
   ]
  },
  {
   "cell_type": "code",
   "execution_count": 21,
   "metadata": {},
   "outputs": [
    {
     "name": "stdout",
     "output_type": "stream",
     "text": [
      "Package           Version\n",
      "----------------- --------\n",
      "asttokens         2.0.5\n",
      "backcall          0.2.0\n",
      "colorama          0.4.4\n",
      "debugpy           1.5.1\n",
      "decorator         5.1.1\n",
      "entrypoints       0.4\n",
      "executing         0.8.3\n",
      "ipykernel         6.9.1\n",
      "ipython           8.1.1\n",
      "jedi              0.18.1\n",
      "jupyter-client    7.1.2\n",
      "jupyter-core      4.9.2\n",
      "lxml              4.8.0\n",
      "matplotlib-inline 0.1.3\n",
      "nest-asyncio      1.5.4\n",
      "numpy             1.22.2\n",
      "opencv-python     4.5.5.62\n",
      "parso             0.8.3\n",
      "pickleshare       0.7.5\n",
      "pip               22.0.3\n",
      "prompt-toolkit    3.0.28\n",
      "pure-eval         0.2.2\n",
      "Pygments          2.11.2\n",
      "PyQt5             5.15.6\n",
      "PyQt5-Qt5         5.15.2\n",
      "PyQt5-sip         12.9.1\n",
      "python-dateutil   2.8.2\n",
      "pywin32           303\n",
      "pyzmq             22.3.0\n",
      "setuptools        41.2.0\n",
      "six               1.16.0\n",
      "stack-data        0.2.0\n",
      "tornado           6.1\n",
      "traitlets         5.1.1\n",
      "wcwidth           0.2.5\n"
     ]
    }
   ],
   "source": [
    "# Verify installation\n",
    "!pip list"
   ]
  },
  {
   "cell_type": "code",
   "execution_count": 23,
   "metadata": {},
   "outputs": [],
   "source": [
    "LABELIMG_PATH = os.path.join('Tensorflow', 'labelimg') # New Directory"
   ]
  },
  {
   "cell_type": "code",
   "execution_count": 24,
   "metadata": {},
   "outputs": [
    {
     "name": "stderr",
     "output_type": "stream",
     "text": [
      "Cloning into 'Tensorflow\\labelimg'...\n"
     ]
    }
   ],
   "source": [
    "if not os.path.exists(LABELIMG_PATH): # Checking if file path doesnt exist\n",
    "    !mkdir {LABELIMG_PATH}\n",
    "    !git clone https://github.com/tzutalin/labelImg {LABELIMG_PATH} # Cloning of LabelImg GitHub Repository"
   ]
  },
  {
   "cell_type": "code",
   "execution_count": 25,
   "metadata": {},
   "outputs": [],
   "source": [
    "# Commands for LabelImg installation depending on operating system\n",
    "if os.name == 'posix': # For Linux machines\n",
    "    !make qt5py3\n",
    "if os.name =='nt': # For Windows machine\n",
    "    !cd {LABELIMG_PATH} && pyrcc5 -o libs/resources.py resources.qrc"
   ]
  },
  {
   "cell_type": "code",
   "execution_count": 26,
   "metadata": {},
   "outputs": [
    {
     "name": "stdout",
     "output_type": "stream",
     "text": [
      "Image:C:\\Users\\Cole\\Documents\\TFOD\\TFODCourse\\Tensorflow\\workspace\\images\\collectedimages\\livelong\\livelong.2b1a0e3c-9c2d-11ec-a57d-8f5ed293d53d.jpg -> Annotation:C:/Users/Cole/Documents/TFOD/TFODCourse/Tensorflow/workspace/images/collectedimages/livelong/livelong.2b1a0e3c-9c2d-11ec-a57d-8f5ed293d53d.xml\n",
      "Image:C:\\Users\\Cole\\Documents\\TFOD\\TFODCourse\\Tensorflow\\workspace\\images\\collectedimages\\livelong\\livelong.2c51826c-9c2d-11ec-82e1-8f5ed293d53d.jpg -> Annotation:C:/Users/Cole/Documents/TFOD/TFODCourse/Tensorflow/workspace/images/collectedimages/livelong/livelong.2c51826c-9c2d-11ec-82e1-8f5ed293d53d.xml\n",
      "Image:C:\\Users\\Cole\\Documents\\TFOD\\TFODCourse\\Tensorflow\\workspace\\images\\collectedimages\\livelong\\livelong.2d8807b1-9c2d-11ec-ba04-8f5ed293d53d.jpg -> Annotation:C:/Users/Cole/Documents/TFOD/TFODCourse/Tensorflow/workspace/images/collectedimages/livelong/livelong.2d8807b1-9c2d-11ec-ba04-8f5ed293d53d.xml\n",
      "Image:C:\\Users\\Cole\\Documents\\TFOD\\TFODCourse\\Tensorflow\\workspace\\images\\collectedimages\\livelong\\livelong.28b034b2-9c2d-11ec-9749-8f5ed293d53d.jpg -> Annotation:C:/Users/Cole/Documents/TFOD/TFODCourse/Tensorflow/workspace/images/collectedimages/livelong/livelong.28b034b2-9c2d-11ec-9749-8f5ed293d53d.xml\n",
      "Image:C:\\Users\\Cole\\Documents\\TFOD\\TFODCourse\\Tensorflow\\workspace\\images\\collectedimages\\livelong\\livelong.29e5a5dc-9c2d-11ec-9537-8f5ed293d53d.jpg -> Annotation:C:/Users/Cole/Documents/TFOD/TFODCourse/Tensorflow/workspace/images/collectedimages/livelong/livelong.29e5a5dc-9c2d-11ec-9537-8f5ed293d53d.xml\n",
      "Image:C:\\Users\\Cole\\Documents\\TFOD\\TFODCourse\\Tensorflow\\workspace\\images\\collectedimages\\surfer\\surfer.23c706fc-9c2d-11ec-93f5-8f5ed293d53d.jpg -> Annotation:C:/Users/Cole/Documents/TFOD/TFODCourse/Tensorflow/workspace/images/collectedimages/surfer/surfer.23c706fc-9c2d-11ec-93f5-8f5ed293d53d.xml\n",
      "Image:C:\\Users\\Cole\\Documents\\TFOD\\TFODCourse\\Tensorflow\\workspace\\images\\collectedimages\\surfer\\surfer.70ee52c7-9c30-11ec-9c51-8f5ed293d53d.jpg -> Annotation:C:/Users/Cole/Documents/TFOD/TFODCourse/Tensorflow/workspace/images/collectedimages/surfer/surfer.70ee52c7-9c30-11ec-9c51-8f5ed293d53d.xml\n",
      "Image:C:\\Users\\Cole\\Documents\\TFOD\\TFODCourse\\Tensorflow\\workspace\\images\\collectedimages\\surfer\\surfer.215df6ec-9c2d-11ec-8a03-8f5ed293d53d.jpg -> Annotation:C:/Users/Cole/Documents/TFOD/TFODCourse/Tensorflow/workspace/images/collectedimages/surfer/surfer.215df6ec-9c2d-11ec-8a03-8f5ed293d53d.xml\n",
      "Image:C:\\Users\\Cole\\Documents\\TFOD\\TFODCourse\\Tensorflow\\workspace\\images\\collectedimages\\surfer\\surfer.2292fd39-9c2d-11ec-b54f-8f5ed293d53d.jpg -> Annotation:C:/Users/Cole/Documents/TFOD/TFODCourse/Tensorflow/workspace/images/collectedimages/surfer/surfer.2292fd39-9c2d-11ec-b54f-8f5ed293d53d.xml\n",
      "Image:C:\\Users\\Cole\\Documents\\TFOD\\TFODCourse\\Tensorflow\\workspace\\images\\collectedimages\\surfer\\surfer.72269dfd-9c30-11ec-8d72-8f5ed293d53d.jpg -> Annotation:C:/Users/Cole/Documents/TFOD/TFODCourse/Tensorflow/workspace/images/collectedimages/surfer/surfer.72269dfd-9c30-11ec-8d72-8f5ed293d53d.xml\n",
      "Image:C:\\Users\\Cole\\Documents\\TFOD\\TFODCourse\\Tensorflow\\workspace\\images\\collectedimages\\thumbsdown\\thumbsdown.1a0920d7-9c2d-11ec-b4f6-8f5ed293d53d.jpg -> Annotation:C:/Users/Cole/Documents/TFOD/TFODCourse/Tensorflow/workspace/images/collectedimages/thumbsdown/thumbsdown.1a0920d7-9c2d-11ec-b4f6-8f5ed293d53d.xml\n",
      "Image:C:\\Users\\Cole\\Documents\\TFOD\\TFODCourse\\Tensorflow\\workspace\\images\\collectedimages\\thumbsdown\\thumbsdown.18d55f44-9c2d-11ec-b7db-8f5ed293d53d.jpg -> Annotation:C:/Users/Cole/Documents/TFOD/TFODCourse/Tensorflow/workspace/images/collectedimages/thumbsdown/thumbsdown.18d55f44-9c2d-11ec-b7db-8f5ed293d53d.xml\n",
      "Image:C:\\Users\\Cole\\Documents\\TFOD\\TFODCourse\\Tensorflow\\workspace\\images\\collectedimages\\thumbsdown\\thumbsdown.166ac357-9c2d-11ec-9f68-8f5ed293d53d.jpg -> Annotation:C:/Users/Cole/Documents/TFOD/TFODCourse/Tensorflow/workspace/images/collectedimages/thumbsdown/thumbsdown.166ac357-9c2d-11ec-9f68-8f5ed293d53d.xml\n",
      "Cancel creation.\n",
      "Image:C:\\Users\\Cole\\Documents\\TFOD\\TFODCourse\\Tensorflow\\workspace\\images\\collectedimages\\thumbsdown\\thumbsdown.179ec429-9c2d-11ec-9680-8f5ed293d53d.jpg -> Annotation:C:/Users/Cole/Documents/TFOD/TFODCourse/Tensorflow/workspace/images/collectedimages/thumbsdown/thumbsdown.179ec429-9c2d-11ec-9680-8f5ed293d53d.xml\n",
      "Image:C:\\Users\\Cole\\Documents\\TFOD\\TFODCourse\\Tensorflow\\workspace\\images\\collectedimages\\thumbsdown\\thumbsdown.1534da50-9c2d-11ec-8581-8f5ed293d53d.jpg -> Annotation:C:/Users/Cole/Documents/TFOD/TFODCourse/Tensorflow/workspace/images/collectedimages/thumbsdown/thumbsdown.1534da50-9c2d-11ec-8581-8f5ed293d53d.xml\n",
      "Image:C:\\Users\\Cole\\Documents\\TFOD\\TFODCourse\\Tensorflow\\workspace\\images\\collectedimages\\thumbsup\\thumbsup.0b6d0c92-9c2d-11ec-a6fa-8f5ed293d53d.jpg -> Annotation:C:/Users/Cole/Documents/TFOD/TFODCourse/Tensorflow/workspace/images/collectedimages/thumbsup/thumbsup.0b6d0c92-9c2d-11ec-a6fa-8f5ed293d53d.xml\n",
      "Image:C:\\Users\\Cole\\Documents\\TFOD\\TFODCourse\\Tensorflow\\workspace\\images\\collectedimages\\thumbsup\\thumbsup.0ddbc8aa-9c2d-11ec-b79c-8f5ed293d53d.jpg -> Annotation:C:/Users/Cole/Documents/TFOD/TFODCourse/Tensorflow/workspace/images/collectedimages/thumbsup/thumbsup.0ddbc8aa-9c2d-11ec-b79c-8f5ed293d53d.xml\n",
      "Image:C:\\Users\\Cole\\Documents\\TFOD\\TFODCourse\\Tensorflow\\workspace\\images\\collectedimages\\thumbsup\\thumbsup.0f110bc1-9c2d-11ec-a6f3-8f5ed293d53d.jpg -> Annotation:C:/Users/Cole/Documents/TFOD/TFODCourse/Tensorflow/workspace/images/collectedimages/thumbsup/thumbsup.0f110bc1-9c2d-11ec-a6f3-8f5ed293d53d.xml\n",
      "Image:C:\\Users\\Cole\\Documents\\TFOD\\TFODCourse\\Tensorflow\\workspace\\images\\collectedimages\\thumbsup\\thumbsup.22ce8fa9-9c30-11ec-8eb9-8f5ed293d53d.jpg -> Annotation:C:/Users/Cole/Documents/TFOD/TFODCourse/Tensorflow/workspace/images/collectedimages/thumbsup/thumbsup.22ce8fa9-9c30-11ec-8eb9-8f5ed293d53d.xml\n",
      "Image:C:\\Users\\Cole\\Documents\\TFOD\\TFODCourse\\Tensorflow\\workspace\\images\\collectedimages\\thumbsup\\thumbsup.24071452-9c30-11ec-9980-8f5ed293d53d.jpg -> Annotation:C:/Users/Cole/Documents/TFOD/TFODCourse/Tensorflow/workspace/images/collectedimages/thumbsup/thumbsup.24071452-9c30-11ec-9980-8f5ed293d53d.xml\n"
     ]
    }
   ],
   "source": [
    "# Opens LabelImg package\n",
    "!cd {LABELIMG_PATH} && python labelImg.py"
   ]
  },
  {
   "cell_type": "markdown",
   "metadata": {},
   "source": [
    "# 6. Move them into a Training and Testing Partition"
   ]
  },
  {
   "cell_type": "markdown",
   "metadata": {},
   "source": [
    "# OPTIONAL - 7. Compress them for Colab Training"
   ]
  },
  {
   "cell_type": "code",
   "execution_count": 20,
   "metadata": {},
   "outputs": [],
   "source": [
    "TRAIN_PATH = os.path.join('Tensorflow', 'workspace', 'images', 'train')\n",
    "TEST_PATH = os.path.join('Tensorflow', 'workspace', 'images', 'test')\n",
    "ARCHIVE_PATH = os.path.join('Tensorflow', 'workspace', 'images', 'archive.tar.gz')"
   ]
  },
  {
   "cell_type": "code",
   "execution_count": 21,
   "metadata": {},
   "outputs": [],
   "source": [
    "# Command to compress and archive images to be used in Google Colab\n",
    "!tar -czf {ARCHIVE_PATH} {TRAIN_PATH} {TEST_PATH}"
   ]
  },
  {
   "cell_type": "code",
   "execution_count": null,
   "metadata": {},
   "outputs": [],
   "source": []
  }
 ],
 "metadata": {
  "kernelspec": {
   "display_name": "tfod",
   "language": "python",
   "name": "tfod"
  },
  "language_info": {
   "codemirror_mode": {
    "name": "ipython",
    "version": 3
   },
   "file_extension": ".py",
   "mimetype": "text/x-python",
   "name": "python",
   "nbconvert_exporter": "python",
   "pygments_lexer": "ipython3",
   "version": "3.8.3"
  }
 },
 "nbformat": 4,
 "nbformat_minor": 2
}
