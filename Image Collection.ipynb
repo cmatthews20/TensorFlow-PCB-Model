{
 "cells": [
  {
   "cell_type": "markdown",
   "metadata": {},
   "source": [
    "# 1. Import Dependencies"
   ]
  },
  {
   "cell_type": "code",
   "execution_count": 1,
   "metadata": {},
   "outputs": [
    {
     "name": "stdout",
     "output_type": "stream",
     "text": [
      "Requirement already satisfied: opencv-python in c:\\users\\cole\\documents\\tfod\\tfodcourse\\tfod\\lib\\site-packages (4.5.5.62)\n",
      "Requirement already satisfied: numpy>=1.14.5 in c:\\users\\cole\\documents\\tfod\\tfodcourse\\tfod\\lib\\site-packages (from opencv-python) (1.22.2)\n"
     ]
    }
   ],
   "source": [
    "!pip install opencv-python"
   ]
  },
  {
   "cell_type": "code",
   "execution_count": 2,
   "metadata": {},
   "outputs": [],
   "source": [
    "# Import opencv\n",
    "import cv2 \n",
    "\n",
    "# Import uuid (gives unique identifier for naming images uniquely to avoid overlaps)\n",
    "import uuid\n",
    "\n",
    "# Import Operating System (good for working with file paths (complying with windows, mac, linux))\n",
    "import os\n",
    "\n",
    "# Import time (we will use to delay camera captures)\n",
    "import time"
   ]
  },
  {
   "cell_type": "markdown",
   "metadata": {},
   "source": [
    "# 2. Define Images to Collect"
   ]
  },
  {
   "cell_type": "code",
   "execution_count": 3,
   "metadata": {},
   "outputs": [],
   "source": [
    "# This will be multi-class object detection model\n",
    "labels = ['ElectrolyticCapacitor', 'IC', 'LED'] \n",
    "number_imgs = 10 # Number of images per class"
   ]
  },
  {
   "cell_type": "markdown",
   "metadata": {},
   "source": [
    "# 3. Setup Folders "
   ]
  },
  {
   "cell_type": "code",
   "execution_count": 4,
   "metadata": {},
   "outputs": [],
   "source": [
    "IMAGES_PATH = os.path.join('Tensorflow', 'workspace', 'images', 'collectedimages') # Creating new path + folders"
   ]
  },
  {
   "cell_type": "code",
   "execution_count": 6,
   "metadata": {},
   "outputs": [],
   "source": [
    "if not os.path.exists(IMAGES_PATH): # Checks if file path exists; os.name checks type of os being used \n",
    "    if os.name == 'posix': # Linux\n",
    "        !mkdir -p {IMAGES_PATH}\n",
    "    if os.name == 'nt': # Windows\n",
    "         !mkdir {IMAGES_PATH}\n",
    "for label in labels: # Creates new folder per class\n",
    "    path = os.path.join(IMAGES_PATH, label)\n",
    "    if not os.path.exists(path):\n",
    "        !mkdir {path}"
   ]
  },
  {
   "cell_type": "markdown",
   "metadata": {},
   "source": [
    "# 4. Capture Images"
   ]
  },
  {
   "cell_type": "code",
   "execution_count": null,
   "metadata": {},
   "outputs": [],
   "source": [
    "# Testing Camera\n",
    "\n",
    "cap = cv2.VideoCapture(0) # Int refers to different cameras/devices\n",
    "while cap.isOpened():\n",
    "    ret, frame = cap.read()\n",
    "    cv2.imshow('Camera Feed', frame)\n",
    "    \n",
    "    if cv2.waitKey(1) & 0xFF == ord('q'): # Hit 'q' key to escape\n",
    "        break\n",
    "cap.release()\n",
    "cv2.destroyAllWindows()"
   ]
  },
  {
   "cell_type": "code",
   "execution_count": 19,
   "metadata": {
    "scrolled": true
   },
   "outputs": [
    {
     "name": "stdout",
     "output_type": "stream",
     "text": [
      "Collecting images for surfer\n",
      "Collecting image 0\n",
      "Collecting image 1\n"
     ]
    }
   ],
   "source": [
    "# Run this cell to begin collecting images via webcam or USB camera\n",
    "\n",
    "for label in labels: \n",
    "    cap = cv2.VideoCapture(0) # Connects to camera\n",
    "    print('Collecting images for {}'.format(label)) # Print the label that we are collecting images for\n",
    "    time.sleep(5) # Break to allow repositioning of object\n",
    "    for imgnum in range(number_imgs): # Loops through number of images we want to collect\n",
    "        print('Collecting image {}'.format(imgnum)) # Prints the image number being collected for specific label\n",
    "        ret, frame = cap.read() # Captures frame using webcam\n",
    "        \n",
    "        # Creates image in folder path\n",
    "        imgname = os.path.join(IMAGES_PATH,label,label+'.'+'{}.jpg'.format(str(uuid.uuid1()))) \n",
    "        cv2.imwrite(imgname, frame) # Writes to file\n",
    "        cv2.imshow('frame', frame) # Show to screen\n",
    "        time.sleep(2)\n",
    "\n",
    "        if cv2.waitKey(1) & 0xFF == ord('q'): # Hit 'q' key to escape\n",
    "            break\n",
    "cap.release()\n",
    "cv2.destroyAllWindows()"
   ]
  },
  {
   "cell_type": "markdown",
   "metadata": {},
   "source": [
    "# 5. Image Labelling"
   ]
  },
  {
   "cell_type": "code",
   "execution_count": 7,
   "metadata": {},
   "outputs": [
    {
     "name": "stdout",
     "output_type": "stream",
     "text": [
      "Requirement already satisfied: pyqt5 in c:\\users\\cole\\documents\\tfod\\tfodcourse\\tfod\\lib\\site-packages (5.15.6)\n",
      "Requirement already satisfied: lxml in c:\\users\\cole\\documents\\tfod\\tfodcourse\\tfod\\lib\\site-packages (4.8.0)\n",
      "Requirement already satisfied: PyQt5-Qt5>=5.15.2 in c:\\users\\cole\\documents\\tfod\\tfodcourse\\tfod\\lib\\site-packages (from pyqt5) (5.15.2)\n",
      "Requirement already satisfied: PyQt5-sip<13,>=12.8 in c:\\users\\cole\\documents\\tfod\\tfodcourse\\tfod\\lib\\site-packages (from pyqt5) (12.9.1)\n"
     ]
    }
   ],
   "source": [
    "!pip install --upgrade pyqt5 lxml"
   ]
  },
  {
   "cell_type": "code",
   "execution_count": 8,
   "metadata": {},
   "outputs": [
    {
     "name": "stdout",
     "output_type": "stream",
     "text": [
      "Package                      Version             Editable project location\n",
      "---------------------------- ------------------- -----------------------------------------------------------------------\n",
      "absl-py                      1.0.0\n",
      "asttokens                    2.0.5\n",
      "astunparse                   1.6.3\n",
      "backcall                     0.2.0\n",
      "cachetools                   5.0.0\n",
      "certifi                      2021.10.8\n",
      "charset-normalizer           2.0.12\n",
      "colorama                     0.4.4\n",
      "cycler                       0.11.0\n",
      "Cython                       0.29.28\n",
      "debugpy                      1.5.1\n",
      "decorator                    5.1.1\n",
      "entrypoints                  0.4\n",
      "executing                    0.8.3\n",
      "flatbuffers                  2.0\n",
      "gast                         0.5.3\n",
      "gin                          0.1.6\n",
      "gin-config                   0.1.1\n",
      "google-auth                  2.6.0\n",
      "google-auth-oauthlib         0.4.6\n",
      "google-pasta                 0.2.0\n",
      "grpcio                       1.44.0\n",
      "h5py                         3.6.0\n",
      "idna                         3.3\n",
      "importlib-metadata           4.11.2\n",
      "ipykernel                    6.9.1\n",
      "ipython                      8.1.1\n",
      "jedi                         0.18.1\n",
      "jupyter-client               7.1.2\n",
      "jupyter-core                 4.9.2\n",
      "keras                        2.8.0\n",
      "Keras-Preprocessing          1.1.2\n",
      "kiwisolver                   1.3.2\n",
      "libclang                     13.0.0\n",
      "lvis                         0.5.3\n",
      "lxml                         4.8.0\n",
      "Markdown                     3.3.6\n",
      "matplotlib                   3.2.0\n",
      "matplotlib-inline            0.1.3\n",
      "nest-asyncio                 1.5.4\n",
      "numpy                        1.22.2\n",
      "oauthlib                     3.2.0\n",
      "object-detection             0.1\n",
      "opencv-python                4.5.5.62\n",
      "opt-einsum                   3.3.0\n",
      "pandas                       1.4.1\n",
      "parso                        0.8.3\n",
      "pickleshare                  0.7.5\n",
      "Pillow                       9.0.1\n",
      "pip                          22.0.3\n",
      "prompt-toolkit               3.0.28\n",
      "protobuf                     3.19.4\n",
      "pure-eval                    0.2.2\n",
      "pyasn1                       0.4.8\n",
      "pyasn1-modules               0.2.8\n",
      "pycocotools-windows          2.0.0.2\n",
      "Pygments                     2.11.2\n",
      "pyparsing                    3.0.7\n",
      "PyQt5                        5.15.6\n",
      "PyQt5-Qt5                    5.15.2\n",
      "PyQt5-sip                    12.9.1\n",
      "python-dateutil              2.8.2\n",
      "pytz                         2021.3\n",
      "pywin32                      303\n",
      "PyYAML                       5.1.2\n",
      "pyzmq                        22.3.0\n",
      "requests                     2.27.1\n",
      "requests-oauthlib            1.3.1\n",
      "rsa                          4.8\n",
      "scipy                        1.8.0\n",
      "setuptools                   41.2.0\n",
      "six                          1.16.0\n",
      "slim                         0.1                 c:\\users\\cole\\documents\\tfod\\tfodcourse\\tensorflow\\models\\research\\slim\n",
      "stack-data                   0.2.0\n",
      "tensorboard                  2.8.0\n",
      "tensorboard-data-server      0.6.1\n",
      "tensorboard-plugin-wit       1.8.1\n",
      "tensorflow                   2.8.0\n",
      "tensorflow-addons            0.16.1\n",
      "tensorflow-hub               0.12.0\n",
      "tensorflow-io                0.24.0\n",
      "tensorflow-io-gcs-filesystem 0.24.0\n",
      "tensorflowjs                 3.14.0\n",
      "termcolor                    1.1.0\n",
      "tf-estimator-nightly         2.8.0.dev2021122109\n",
      "tf-models-official           2.8.0\n",
      "tf-slim                      1.1.0\n",
      "tornado                      6.1\n",
      "traitlets                    5.1.1\n",
      "typeguard                    2.13.3\n",
      "typing_extensions            4.1.1\n",
      "urllib3                      1.26.8\n",
      "wcwidth                      0.2.5\n",
      "Werkzeug                     2.0.3\n",
      "wget                         3.2\n",
      "wheel                        0.37.1\n",
      "wrapt                        1.13.3\n",
      "zipp                         3.7.0\n"
     ]
    }
   ],
   "source": [
    "# Verify installation\n",
    "!pip list"
   ]
  },
  {
   "cell_type": "code",
   "execution_count": 9,
   "metadata": {},
   "outputs": [],
   "source": [
    "LABELIMG_PATH = os.path.join('Tensorflow', 'labelimg') # New Directory"
   ]
  },
  {
   "cell_type": "code",
   "execution_count": 10,
   "metadata": {},
   "outputs": [],
   "source": [
    "if not os.path.exists(LABELIMG_PATH): # Checking if file path doesnt exist\n",
    "    !mkdir {LABELIMG_PATH}\n",
    "    !git clone https://github.com/tzutalin/labelImg {LABELIMG_PATH} # Cloning of LabelImg GitHub Repository"
   ]
  },
  {
   "cell_type": "code",
   "execution_count": 11,
   "metadata": {},
   "outputs": [],
   "source": [
    "# Commands for LabelImg installation depending on operating system\n",
    "if os.name == 'posix': # For Linux machines\n",
    "    !make qt5py3\n",
    "if os.name =='nt': # For Windows machine\n",
    "    !cd {LABELIMG_PATH} && pyrcc5 -o libs/resources.py resources.qrc"
   ]
  },
  {
   "cell_type": "code",
   "execution_count": 13,
   "metadata": {},
   "outputs": [
    {
     "name": "stdout",
     "output_type": "stream",
     "text": [
      "Cancel creation.\n",
      "Image:C:\\Users\\Cole\\Documents\\TFOD\\TFODCourse\\Tensorflow\\workspace\\images\\collectedimages\\IC\\IC2.jpg -> Annotation:C:/Users/Cole/Documents/TFOD/TFODCourse/Tensorflow/workspace/images/collectedimages/IC/IC2.xml\n",
      "Image:C:\\Users\\Cole\\Documents\\TFOD\\TFODCourse\\Tensorflow\\workspace\\images\\collectedimages\\IC\\IC3.jpg -> Annotation:C:/Users/Cole/Documents/TFOD/TFODCourse/Tensorflow/workspace/images/collectedimages/IC/IC3.xml\n",
      "Cancel creation.\n",
      "Image:C:\\Users\\Cole\\Documents\\TFOD\\TFODCourse\\Tensorflow\\workspace\\images\\collectedimages\\IC\\IC4.jpg -> Annotation:C:/Users/Cole/Documents/TFOD/TFODCourse/Tensorflow/workspace/images/collectedimages/IC/IC4.xml\n",
      "Image:C:\\Users\\Cole\\Documents\\TFOD\\TFODCourse\\Tensorflow\\workspace\\images\\collectedimages\\IC\\IC5.jpg -> Annotation:C:/Users/Cole/Documents/TFOD/TFODCourse/Tensorflow/workspace/images/collectedimages/IC/IC5.xml\n",
      "Image:C:\\Users\\Cole\\Documents\\TFOD\\TFODCourse\\Tensorflow\\workspace\\images\\collectedimages\\IC\\IC6.jpg -> Annotation:C:/Users/Cole/Documents/TFOD/TFODCourse/Tensorflow/workspace/images/collectedimages/IC/IC6.xml\n",
      "Image:C:\\Users\\Cole\\Documents\\TFOD\\TFODCourse\\Tensorflow\\workspace\\images\\collectedimages\\IC\\IC7.jpg -> Annotation:C:/Users/Cole/Documents/TFOD/TFODCourse/Tensorflow/workspace/images/collectedimages/IC/IC7.xml\n",
      "Image:C:\\Users\\Cole\\Documents\\TFOD\\TFODCourse\\Tensorflow\\workspace\\images\\collectedimages\\IC\\IC8.jpg -> Annotation:C:/Users/Cole/Documents/TFOD/TFODCourse/Tensorflow/workspace/images/collectedimages/IC/IC8.xml\n",
      "Image:C:\\Users\\Cole\\Documents\\TFOD\\TFODCourse\\Tensorflow\\workspace\\images\\collectedimages\\IC\\IC9.jpg -> Annotation:C:/Users/Cole/Documents/TFOD/TFODCourse/Tensorflow/workspace/images/collectedimages/IC/IC9.xml\n",
      "Image:C:\\Users\\Cole\\Documents\\TFOD\\TFODCourse\\Tensorflow\\workspace\\images\\collectedimages\\IC\\IC10.jpg -> Annotation:C:/Users/Cole/Documents/TFOD/TFODCourse/Tensorflow/workspace/images/collectedimages/IC/IC10.xml\n",
      "Image:C:\\Users\\Cole\\Documents\\TFOD\\TFODCourse\\Tensorflow\\workspace\\images\\collectedimages\\IC\\IC11.jpg -> Annotation:C:/Users/Cole/Documents/TFOD/TFODCourse/Tensorflow/workspace/images/collectedimages/IC/IC11.xml\n",
      "Image:C:\\Users\\Cole\\Documents\\TFOD\\TFODCourse\\Tensorflow\\workspace\\images\\collectedimages\\IC\\IC12.jpg -> Annotation:C:/Users/Cole/Documents/TFOD/TFODCourse/Tensorflow/workspace/images/collectedimages/IC/IC12.xml\n",
      "Image:C:\\Users\\Cole\\Documents\\TFOD\\TFODCourse\\Tensorflow\\workspace\\images\\collectedimages\\IC\\IC13.jpg -> Annotation:C:/Users/Cole/Documents/TFOD/TFODCourse/Tensorflow/workspace/images/collectedimages/IC/IC13.xml\n",
      "Image:C:\\Users\\Cole\\Documents\\TFOD\\TFODCourse\\Tensorflow\\workspace\\images\\collectedimages\\IC\\IC14.jpg -> Annotation:C:/Users/Cole/Documents/TFOD/TFODCourse/Tensorflow/workspace/images/collectedimages/IC/IC14.xml\n",
      "Image:C:\\Users\\Cole\\Documents\\TFOD\\TFODCourse\\Tensorflow\\workspace\\images\\collectedimages\\IC\\IC15.jpg -> Annotation:C:/Users/Cole/Documents/TFOD/TFODCourse/Tensorflow/workspace/images/collectedimages/IC/IC15.xml\n",
      "Image:C:\\Users\\Cole\\Documents\\TFOD\\TFODCourse\\Tensorflow\\workspace\\images\\collectedimages\\IC\\IC16.jpg -> Annotation:C:/Users/Cole/Documents/TFOD/TFODCourse/Tensorflow/workspace/images/collectedimages/IC/IC16.xml\n",
      "Image:C:\\Users\\Cole\\Documents\\TFOD\\TFODCourse\\Tensorflow\\workspace\\images\\collectedimages\\IC\\IC17.jpg -> Annotation:C:/Users/Cole/Documents/TFOD/TFODCourse/Tensorflow/workspace/images/collectedimages/IC/IC17.xml\n",
      "Image:C:\\Users\\Cole\\Documents\\TFOD\\TFODCourse\\Tensorflow\\workspace\\images\\collectedimages\\ElectrolyticCapacitor\\ElectrolyticCapacitor2.jpg -> Annotation:C:/Users/Cole/Documents/TFOD/TFODCourse/Tensorflow/workspace/images/collectedimages/ElectrolyticCapacitor/ElectrolyticCapacitor2.xml\n",
      "Image:C:\\Users\\Cole\\Documents\\TFOD\\TFODCourse\\Tensorflow\\workspace\\images\\collectedimages\\ElectrolyticCapacitor\\ElectrolyticCapacitor4.jpg -> Annotation:C:/Users/Cole/Documents/TFOD/TFODCourse/Tensorflow/workspace/images/collectedimages/ElectrolyticCapacitor/ElectrolyticCapacitor4.xml\n",
      "Image:C:\\Users\\Cole\\Documents\\TFOD\\TFODCourse\\Tensorflow\\workspace\\images\\collectedimages\\ElectrolyticCapacitor\\ElectrolyticCapacitor9.jpg -> Annotation:C:/Users/Cole/Documents/TFOD/TFODCourse/Tensorflow/workspace/images/collectedimages/ElectrolyticCapacitor/ElectrolyticCapacitor9.xml\n",
      "Image:C:\\Users\\Cole\\Documents\\TFOD\\TFODCourse\\Tensorflow\\workspace\\images\\collectedimages\\ElectrolyticCapacitor\\ElectrolyticCapacitor10.jpg -> Annotation:C:/Users/Cole/Documents/TFOD/TFODCourse/Tensorflow/workspace/images/collectedimages/ElectrolyticCapacitor/ElectrolyticCapacitor10.xml\n",
      "Image:C:\\Users\\Cole\\Documents\\TFOD\\TFODCourse\\Tensorflow\\workspace\\images\\collectedimages\\ElectrolyticCapacitor\\ElectrolyticCapacitor11.jpg -> Annotation:C:/Users/Cole/Documents/TFOD/TFODCourse/Tensorflow/workspace/images/collectedimages/ElectrolyticCapacitor/ElectrolyticCapacitor11.xml\n",
      "Image:C:\\Users\\Cole\\Documents\\TFOD\\TFODCourse\\Tensorflow\\workspace\\images\\collectedimages\\ElectrolyticCapacitor\\ElectrolyticCapacitor13.jpg -> Annotation:C:/Users/Cole/Documents/TFOD/TFODCourse/Tensorflow/workspace/images/collectedimages/ElectrolyticCapacitor/ElectrolyticCapacitor13.xml\n",
      "Image:C:\\Users\\Cole\\Documents\\TFOD\\TFODCourse\\Tensorflow\\workspace\\images\\collectedimages\\ElectrolyticCapacitor\\ElectrolyticCapacitor14.jpg -> Annotation:C:/Users/Cole/Documents/TFOD/TFODCourse/Tensorflow/workspace/images/collectedimages/ElectrolyticCapacitor/ElectrolyticCapacitor14.xml\n",
      "Image:C:\\Users\\Cole\\Documents\\TFOD\\TFODCourse\\Tensorflow\\workspace\\images\\collectedimages\\ElectrolyticCapacitor\\ElectrolyticCapacitor15.jpg -> Annotation:C:/Users/Cole/Documents/TFOD/TFODCourse/Tensorflow/workspace/images/collectedimages/ElectrolyticCapacitor/ElectrolyticCapacitor15.xml\n",
      "Image:C:\\Users\\Cole\\Documents\\TFOD\\TFODCourse\\Tensorflow\\workspace\\images\\collectedimages\\ElectrolyticCapacitor\\ElectrolyticCapacitor16.jpg -> Annotation:C:/Users/Cole/Documents/TFOD/TFODCourse/Tensorflow/workspace/images/collectedimages/ElectrolyticCapacitor/ElectrolyticCapacitor16.xml\n",
      "Image:C:\\Users\\Cole\\Documents\\TFOD\\TFODCourse\\Tensorflow\\workspace\\images\\collectedimages\\ElectrolyticCapacitor\\ElectrolyticCapacitor17.jpg -> Annotation:C:/Users/Cole/Documents/TFOD/TFODCourse/Tensorflow/workspace/images/collectedimages/ElectrolyticCapacitor/ElectrolyticCapacitor17.xml\n",
      "Image:C:\\Users\\Cole\\Documents\\TFOD\\TFODCourse\\Tensorflow\\workspace\\images\\collectedimages\\ElectrolyticCapacitor\\ElectrolyticCapacitor18.jpg -> Annotation:C:/Users/Cole/Documents/TFOD/TFODCourse/Tensorflow/workspace/images/collectedimages/ElectrolyticCapacitor/ElectrolyticCapacitor18.xml\n",
      "Image:C:\\Users\\Cole\\Documents\\TFOD\\TFODCourse\\Tensorflow\\workspace\\images\\collectedimages\\ElectrolyticCapacitor\\ElectrolyticCapacitor19.jpg -> Annotation:C:/Users/Cole/Documents/TFOD/TFODCourse/Tensorflow/workspace/images/collectedimages/ElectrolyticCapacitor/ElectrolyticCapacitor19.xml\n"
     ]
    }
   ],
   "source": [
    "# Opens LabelImg package\n",
    "!cd {LABELIMG_PATH} && python labelImg.py"
   ]
  },
  {
   "cell_type": "markdown",
   "metadata": {},
   "source": [
    "# 6. Move them into a Training and Testing Partition"
   ]
  },
  {
   "cell_type": "markdown",
   "metadata": {},
   "source": [
    "# OPTIONAL - 7. Compress them for Colab Training"
   ]
  },
  {
   "cell_type": "code",
   "execution_count": 20,
   "metadata": {},
   "outputs": [],
   "source": [
    "TRAIN_PATH = os.path.join('Tensorflow', 'workspace', 'images', 'train')\n",
    "TEST_PATH = os.path.join('Tensorflow', 'workspace', 'images', 'test')\n",
    "ARCHIVE_PATH = os.path.join('Tensorflow', 'workspace', 'images', 'archive.tar.gz')"
   ]
  },
  {
   "cell_type": "code",
   "execution_count": 21,
   "metadata": {},
   "outputs": [],
   "source": [
    "# Command to compress and archive images to be used in Google Colab\n",
    "!tar -czf {ARCHIVE_PATH} {TRAIN_PATH} {TEST_PATH}"
   ]
  },
  {
   "cell_type": "code",
   "execution_count": null,
   "metadata": {},
   "outputs": [],
   "source": []
  }
 ],
 "metadata": {
  "kernelspec": {
   "display_name": "tfod",
   "language": "python",
   "name": "tfod"
  },
  "language_info": {
   "codemirror_mode": {
    "name": "ipython",
    "version": 3
   },
   "file_extension": ".py",
   "mimetype": "text/x-python",
   "name": "python",
   "nbconvert_exporter": "python",
   "pygments_lexer": "ipython3",
   "version": "3.8.3"
  }
 },
 "nbformat": 4,
 "nbformat_minor": 2
}
